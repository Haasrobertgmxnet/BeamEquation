{
 "cells": [
  {
   "cell_type": "markdown",
   "id": "49690099",
   "metadata": {},
   "source": [
    "# Forward Problem: PINN vs FEM\n",
    "\n",
    "Dieses Notebook trainiert ein PINN für die Balkengleichung und vergleicht die Lösung mit einer FEM-Referenz."
   ]
  },
  {
   "cell_type": "markdown",
   "id": "8040032c",
   "metadata": {},
   "source": [
    "## 1) Vorbereitung"
   ]
  },
  {
   "cell_type": "code",
   "execution_count": null,
   "id": "2f13c033",
   "metadata": {},
   "outputs": [],
   "source": [
    "# ⚠️ Lokal ausführen\n",
    "%cd BeamEquation/Beam.Python\n",
    "#\n",
    "# Optional: reproduzierbare Seeds\n",
    "import numpy as np, random, torch\n",
    "SEED = 1234\n",
    "np.random.seed(SEED); random.seed(SEED); torch.manual_seed(SEED)\n"
   ]
  },
  {
   "cell_type": "markdown",
   "id": "33c83618",
   "metadata": {},
   "source": [
    "## 2) FEM-Referenzlösung berechnen"
   ]
  },
  {
   "cell_type": "code",
   "execution_count": null,
   "id": "2ee0db7e",
   "metadata": {},
   "outputs": [],
   "source": [
    "# ⚠️ Lokal ausführen\n",
    "# from Beam_FEM import BeamModel, PointLoad, Supports\n",
    "# L = 1.0; E = 2.1e11; I = 4.76e-10\n",
    "# model = BeamModel(L=L, n_el=200, E=E, I=I)\n",
    "# model.add_support(Supports.Fixed(0.0))\n",
    "# model.add_load(PointLoad(x=L, Fy=-100.0))\n",
    "# fem_res = model.solve()  # enthält z.B. x, w(x), M(x), V(x)\n"
   ]
  },
  {
   "cell_type": "markdown",
   "id": "23a43fc2",
   "metadata": {},
   "source": [
    "## 3) PINN aufsetzen und trainieren"
   ]
  },
  {
   "cell_type": "code",
   "execution_count": null,
   "id": "84807667",
   "metadata": {},
   "outputs": [],
   "source": [
    "# ⚠️ Lokal ausführen\n",
    "# from Beam_PINN import BeamPINN, PINNConfig\n",
    "# cfg = PINNConfig(\n",
    "#     n_hidden=4, n_neurons=64, lr=1e-3, epochs=5000,\n",
    "#     collocation_points=2000, bc_weight=100.0\n",
    "# )\n",
    "# pinn = BeamPINN(L=1.0, E=2.1e11, I=4.76e-10, config=cfg)\n",
    "# history = pinn.train()\n"
   ]
  },
  {
   "cell_type": "markdown",
   "id": "fc0e4f37",
   "metadata": {},
   "source": [
    "## 4) Vergleich PINN vs FEM"
   ]
  },
  {
   "cell_type": "code",
   "execution_count": null,
   "id": "51b1331f",
   "metadata": {},
   "outputs": [],
   "source": [
    "# ⚠️ Lokal ausführen\n",
    "# import matplotlib.pyplot as plt\n",
    "# import numpy as np\n",
    "#\n",
    "# x = fem_res['x']\n",
    "# w_fem = fem_res['w']\n",
    "# w_pinn = pinn.predict(x)\n",
    "#\n",
    "# plt.figure(); plt.plot(x, w_fem, label='FEM'); plt.plot(x, w_pinn, '--', label='PINN'); plt.legend(); plt.xlabel('x [m]'); plt.ylabel('w [m]'); plt.title('Durchbiegung: FEM vs PINN'); plt.show()\n",
    "#\n",
    "# # Optional: Fehlerkennzahlen\n",
    "# mae = float(np.mean(np.abs(w_pinn - w_fem)))\n",
    "# print('MAE PINN vs FEM:', mae)\n"
   ]
  },
  {
   "cell_type": "markdown",
   "id": "d86190b0",
   "metadata": {},
   "source": [
    "## 5) Diagramme & Ergebnisse sichern"
   ]
  },
  {
   "cell_type": "code",
   "execution_count": null,
   "id": "39ebafb0",
   "metadata": {},
   "outputs": [],
   "source": [
    "# ⚠️ Lokal ausführen\n",
    "# fem_res.plot_all(save_dir='results_forward')\n",
    "# pinn.plot_loss(save_path='results_forward/pinn_loss.png')\n"
   ]
  }
 ],
 "metadata": {
  "kernelspec": {
   "display_name": "Python 3",
   "language": "python",
   "name": "python3"
  }
 },
 "nbformat": 4,
 "nbformat_minor": 5
}
