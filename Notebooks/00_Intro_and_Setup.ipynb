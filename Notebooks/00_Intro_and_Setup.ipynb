{
 "cells": [
  {
   "cell_type": "markdown",
   "id": "c8b64bce",
   "metadata": {},
   "source": [
    "# BeamEquation – Einführung & Setup (Stand: 2025-08-27)\n",
    "\n",
    "Dieses Notebook richtet sich an Nutzerinnen und Nutzer, die das Repository **BeamEquation** von `Haasrobertgmxnet` verwenden möchten.  \n",
    "Es erklärt die Idee hinter dem Projekt, die Ordnerstruktur und zeigt, wie Sie die Umgebung vorbereiten.\n",
    "\n",
    "**Inhalt**  \n",
    "1. Ziel & Überblick  \n",
    "2. Repo-Struktur  \n",
    "3. Installation (lokal)  \n",
    "4. Schneller Test (FEM)  \n",
    "5. Hinweise zur Reproduzierbarkeit\n",
    "\n",
    "> Quelle des Projekts: https://github.com/Haasrobertgmxnet/BeamEquation.git\n"
   ]
  },
  {
   "cell_type": "markdown",
   "id": "333afe65",
   "metadata": {},
   "source": [
    "## 1) Ziel & Überblick\n",
    "\n",
    "Im Repo werden Lösungen der 1D **Euler–Bernoulli-Balkengleichung** untersucht – **klassisch per Finite-Elemente-Methode (FEM)** und **datengetrieben via Physics-Informed Neural Networks (PINNs)**.  \n",
    "Es gibt außerdem ein **Inverse-Problem**, bei dem das Elastizitätsmodul *E* (Young's Modulus) aus Durchbiegungsdaten identifiziert wird.\n"
   ]
  },
  {
   "cell_type": "markdown",
   "id": "20475336",
   "metadata": {},
   "source": [
    "## 2) Ordnerstruktur (vereinfacht)\n",
    "\n",
    "```\n",
    "BeamEquation/\n",
    "├── BeamBending/\n",
    "│   └── Documentation.pdf        # Ausführliche Dokumentation/Artikel\n",
    "├── Beam.Cpp/                    # C++ PINN-Implementierung\n",
    "├── Beam.Python/                 # Python: FEM + PINN (Forward)\n",
    "│   ├── Beam.Python.py           # Pipeline-Skript (Entry Point)\n",
    "│   ├── Beam_FEM.py              # FEM-Helfer/Strukturen\n",
    "│   ├── Beam_PINN.py             # PINN-Helfer/Strukturen\n",
    "├── Parameteridentification.Python/\n",
    "│   ├── Parameteridentification.Python.py  # Pipeline (Inverse Problem)\n",
    "│   ├── Beam_PINN_inverse.py               # PINN für Parameteridentifikation\n",
    "└── README.md\n",
    "```\n"
   ]
  },
  {
   "cell_type": "markdown",
   "id": "6fc44a3e",
   "metadata": {},
   "source": [
    "## 3) Installation (lokal)\n",
    "\n",
    "> **Hinweis:** In dieser Umgebung ist Internetzugriff deaktiviert. Führen Sie die folgenden Zellen **lokal** aus (z.B. VS Code / Jupyter Lab), um das Repo zu klonen und Abhängigkeiten zu installieren.\n"
   ]
  },
  {
   "cell_type": "code",
   "execution_count": null,
   "id": "3b46da23",
   "metadata": {},
   "outputs": [],
   "source": [
    "# ⚠️ Lokal ausführen (nicht in dieser Chat-Umgebung)\n",
    "# Repo klonen und in das Projekt wechseln\n",
    "!git clone https://github.com/Haasrobertgmxnet/BeamEquation.git\n",
    "%cd BeamEquation/BeamBending\n",
    "\n",
    "# (optional) Virtuelle Umgebung\n",
    "# python -m venv .venv\n",
    "# source .venv/bin/activate  # Windows: .venv\\Scripts\\activate\n",
    "\n",
    "# Abhängigkeiten (falls requirements.txt vorhanden ist)\n",
    "# pip install -r requirements.txt\n"
   ]
  },
  {
   "cell_type": "markdown",
   "id": "0fbdf35e",
   "metadata": {},
   "source": [
    "## 4) Schneller Test (FEM)\n",
    "\n",
    "Die Python-FEM-Implementierung befindet sich in `Beam.Python/Beam_FEM.py`.  \n",
    "Ein Minimalbeispiel lädt die Klasse und erstellt einen einfachen Kragträger mit Endlast.\n"
   ]
  },
  {
   "cell_type": "code",
   "execution_count": null,
   "id": "b4feb3b5",
   "metadata": {},
   "outputs": [],
   "source": [
    "# ⚠️ Lokal ausführen\n",
    "# %cd ../Beam.Python\n",
    "# from Beam_FEM import BeamModel, UniformLoad, PointLoad, Supports\n",
    "#\n",
    "# # Beispiel: Kragträger, Länge L=1 m, Rechteckquerschnitt, E*I = 1e4 Nm²\n",
    "# model = BeamModel(L=1.0, n_el=100, E=2.1e11, I=4.76e-10)  # Beispielwerte\n",
    "# model.add_support(Supports.Fixed(0.0))                     # Einspannung bei x=0\n",
    "# model.add_load(PointLoad(x=1.0, Fy=-100.0))                # Endlast nach unten\n",
    "#\n",
    "# res = model.solve()\n",
    "# res.plot_all()  # Querkraft-/Moment-/Durchbiegungsdiagramme"
   ]
  },
  {
   "cell_type": "markdown",
   "id": "359ca0cb",
   "metadata": {},
   "source": [
    "## 5) Reproduzierbarkeit\n",
    "\n",
    "- Legen Sie einen **zufälligen Seed** für PINN-Experimente fest.  \n",
    "- Dokumentieren Sie **Hyperparameter** (z.B. Lernrate, Netzwerkarchitektur).  \n",
    "- Notieren Sie **Versionsstände** von Python & Paketen.\n"
   ]
  }
 ],
 "metadata": {
  "kernelspec": {
   "display_name": "Python 3",
   "language": "python",
   "name": "python3"
  }
 },
 "nbformat": 4,
 "nbformat_minor": 5
}
