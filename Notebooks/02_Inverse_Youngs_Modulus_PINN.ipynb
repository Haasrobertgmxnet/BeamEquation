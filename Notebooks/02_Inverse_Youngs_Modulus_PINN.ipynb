{
 "cells": [
  {
   "cell_type": "markdown",
   "id": "f9560247",
   "metadata": {},
   "source": [
    "# Inverses Problem: Identifikation von Youngs Modul E\n",
    "\n",
    "Wir verwenden ein PINN, um **E** aus (synthetischen) Durchbiegungsdaten zu schätzen."
   ]
  },
  {
   "cell_type": "markdown",
   "id": "78e62327",
   "metadata": {},
   "source": [
    "## 1) Vorbereitung & Datengenerierung"
   ]
  },
  {
   "cell_type": "code",
   "execution_count": null,
   "id": "50b628a3",
   "metadata": {},
   "outputs": [],
   "source": [
    "# ⚠️ Lokal ausführen\n",
    "# %cd BeamEquation/Parameteridentification.Python\n",
    "#\n",
    "# import numpy as np\n",
    "# # Beispiel: synthetische Messdaten (aus bekannter FEM-Lösung) erzeugen\n",
    "# true_E = 2.0e11\n",
    "# # Hier wird angenommen, dass Beam_PINN_inverse/FEM-Helfer bereitstehen,\n",
    "# # um 'w(x; E)' zu berechnen. Platzhalter:\n",
    "# x = np.linspace(0, 1.0, 101)\n",
    "# # w_meas = fem_solve_deflection(x, E=true_E) + np.random.normal(0, 1e-6, x.size)\n",
    "# # np.savez('measured_deflection.npz', x=x, w=w_meas)\n"
   ]
  },
  {
   "cell_type": "markdown",
   "id": "266e31d4",
   "metadata": {},
   "source": [
    "## 2) PINN für Inverse Problem konfigurieren & trainieren"
   ]
  },
  {
   "cell_type": "code",
   "execution_count": null,
   "id": "23ca0bd7",
   "metadata": {},
   "outputs": [],
   "source": [
    "# ⚠️ Lokal ausführen\n",
    "# from Beam_PINN_inverse import InversePINN, InverseConfig\n",
    "# cfg = InverseConfig(n_hidden=4, n_neurons=64, lr=5e-4, epochs=8000, data_weight=50.0)\n",
    "# inv = InversePINN(L=1.0, I=4.76e-10, E_init=1.0e11, config=cfg)\n",
    "# inv.load_measurements('measured_deflection.npz')\n",
    "# history = inv.train()\n",
    "# print('Geschätztes E:', inv.current_E())\n"
   ]
  },
  {
   "cell_type": "markdown",
   "id": "7c6de3cb",
   "metadata": {},
   "source": [
    "## 3) Validierung"
   ]
  },
  {
   "cell_type": "code",
   "execution_count": null,
   "id": "21a92610",
   "metadata": {},
   "outputs": [],
   "source": [
    "# ⚠️ Lokal ausführen\n",
    "# import numpy as np\n",
    "# est_E = inv.current_E()\n",
    "# rel_err = abs(est_E - true_E)/true_E\n",
    "# print('Relativer Fehler E:', rel_err)\n",
    "# inv.plot_diagnostics(save_dir='results_inverse')\n"
   ]
  }
 ],
 "metadata": {
  "kernelspec": {
   "display_name": "Python 3",
   "language": "python",
   "name": "python3"
  }
 },
 "nbformat": 4,
 "nbformat_minor": 5
}
