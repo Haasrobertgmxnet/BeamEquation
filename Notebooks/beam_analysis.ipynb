{
 "cells": [
  {
   "cell_type": "markdown",
   "id": "a74fb7a6",
   "metadata": {},
   "source": [
    "# Cantilever Beam Analysis: PINN vs FEM vs Analytical Solution\n",
    "# Kragträger-Analyse: PINN vs FEM vs Analytische Lösung\n",
    "\n",
    "This notebook compares three different approaches for solving the cantilever beam deflection problem under uniform load:\n",
    "- **PINN** (Physics-Informed Neural Networks) with ADAM and L-BFGS optimizers\n",
    "- **FEM** (Finite Element Method)\n",
    "- **Analytical Solution**\n",
    "\n",
    "Dieses Notebook vergleicht drei verschiedene Ansätze zur Lösung des Kragträger-Durchbiegungsproblems unter gleichmäßiger Last:\n",
    "- **PINN** (Physics-Informed Neural Networks) mit ADAM und L-BFGS Optimierern\n",
    "- **FEM** (Finite-Elemente-Methode)\n",
    "- **Analytische Lösung**\n",
    "\n",
    "## Import Libraries / Bibliotheken importieren"
   ]
  },
  {
   "cell_type": "code",
   "execution_count": null,
   "id": "95e92d73",
   "metadata": {},
   "outputs": [],
   "source": [
    "import time\n",
    "import torch\n",
    "import torch.nn as nn\n",
    "import numpy as np\n",
    "import random\n",
    "import matplotlib.pyplot as plt\n",
    "from typing import Tuple, Optional, List"
   ]
  },
  {
   "cell_type": "markdown",
   "id": "9074d9ce",
   "metadata": {},
   "source": [
    "# Import custom modules for PINN and FEM calculations\n",
    "# Importiere benutzerdefinierte Module für PINN und FEM Berechnungen"
   ]
  },
  {
   "cell_type": "code",
   "execution_count": null,
   "id": "c5a33d56",
   "metadata": {},
   "outputs": [],
   "source": [
    "from Beam_PINN import calculate_pinn\n",
    "from Beam_FEM import calculate_fem"
   ]
  },
  {
   "cell_type": "markdown",
   "id": "0668b3dd",
   "metadata": {},
   "source": [
    "## Utility Functions / Hilfsfunktionen\n",
    "\n",
    "### Random Seed Setting / Zufallszahlen-Seed setzen\n",
    "\n",
    "This function ensures reproducibility by setting seeds for all random number generators used in the analysis.\n",
    "\n",
    "Diese Funktion gewährleistet Reproduzierbarkeit durch das Setzen von Seeds für alle verwendeten Zufallszahlengeneratoren."
   ]
  },
  {
   "cell_type": "code",
   "execution_count": null,
   "id": "daa5323f",
   "metadata": {},
   "outputs": [],
   "source": [
    "def set_seed(seed: int) -> None:\n",
    "    \"\"\"\n",
    "    Set the random seed for reproducibility across PyTorch, NumPy, and Python.\n",
    "    Setze den Zufallszahlen-Seed für Reproduzierbarkeit in PyTorch, NumPy und Python.\n",
    "\n",
    "    Args:\n",
    "        seed (int): Random seed value. / Zufallszahlen-Seed Wert.\n",
    "    \"\"\"\n",
    "    # Set PyTorch random seed / PyTorch Zufallszahlen-Seed setzen\n",
    "    torch.manual_seed(seed)\n",
    "    # Set NumPy random seed / NumPy Zufallszahlen-Seed setzen\n",
    "    np.random.seed(seed)\n",
    "    # Set Python random seed / Python Zufallszahlen-Seed setzen\n",
    "    random.seed(seed)\n",
    "    \n",
    "    # Set CUDA random seed if available / CUDA Zufallszahlen-Seed setzen falls verfügbar\n",
    "    if torch.cuda.is_available():\n",
    "        torch.cuda.manual_seed_all(seed)\n",
    "    \n",
    "    # Ensure deterministic behavior / Deterministisches Verhalten sicherstellen\n",
    "    torch.backends.cudnn.deterministic = True\n",
    "    torch.backends.cudnn.benchmark = False"
   ]
  },
  {
   "cell_type": "markdown",
   "id": "6a4f52e8",
   "metadata": {},
   "source": [
    "### Analytical Solution / Analytische Lösung\n",
    "\n",
    "The exact analytical solution for a cantilever beam under uniform load, expressed in dimensionless form.\n",
    "\n",
    "Die exakte analytische Lösung für einen Kragträger unter gleichmäßiger Last, ausgedrückt in dimensionsloser Form."
   ]
  },
  {
   "cell_type": "code",
   "execution_count": null,
   "id": "74fb1b42",
   "metadata": {},
   "outputs": [],
   "source": [
    "def exact_solution(z: torch.Tensor) -> torch.Tensor:\n",
    "    \"\"\"\n",
    "    Analytical solution to the dimensionless cantilever beam deflection problem.\n",
    "    Analytische Lösung des dimensionslosen Kragträger-Durchbiegungsproblems.\n",
    "\n",
    "    Args:\n",
    "        z (torch.Tensor): Dimensionless spatial coordinate (0 to 1).\n",
    "                         Dimensionslose Raumkoordinate (0 bis 1).\n",
    "\n",
    "    Returns:\n",
    "        torch.Tensor: Dimensionless deflection at point z.\n",
    "                     Dimensionslose Durchbiegung am Punkt z.\n",
    "    \"\"\"\n",
    "    # Fourth-order polynomial solution for uniform load\n",
    "    # Polynomlösung vierter Ordnung für gleichmäßige Last\n",
    "    return (1 / 24) * z ** 2 * (z ** 2 - 4 * z + 6)"
   ]
  },
  {
   "cell_type": "markdown",
   "id": "d3cae241",
   "metadata": {},
   "source": [
    "### Error Calculation / Fehlerberechnung\n",
    "\n",
    "Function to compute Root Mean Square Error (RMSE) and relative L2 error between predictions and reference values.\n",
    "\n",
    "Funktion zur Berechnung des Root Mean Square Error (RMSE) und des relativen L2-Fehlers zwischen Vorhersagen und Referenzwerten."
   ]
  },
  {
   "cell_type": "code",
   "execution_count": null,
   "id": "c53a70be",
   "metadata": {},
   "outputs": [],
   "source": [
    "def calc_errors(x: np.ndarray, x_ref: np.ndarray) -> Tuple[float, float]:\n",
    "    \"\"\"\n",
    "    Calculate RMSE and relative L2 error between predictions and reference.\n",
    "    Berechne RMSE und relativen L2-Fehler zwischen Vorhersagen und Referenz.\n",
    "\n",
    "    Args:\n",
    "        x (np.ndarray): Predicted values. / Vorhergesagte Werte.\n",
    "        x_ref (np.ndarray): Reference (exact or FEM) values. / Referenzwerte (exakt oder FEM).\n",
    "\n",
    "    Returns:\n",
    "        Tuple[float, float]: (RMSE, Relative L2 error) / (RMSE, Relativer L2-Fehler)\n",
    "    \"\"\"\n",
    "    # Calculate Root Mean Square Error / Root Mean Square Error berechnen\n",
    "    rmse = np.sqrt(np.mean((x - x_ref) ** 2))\n",
    "    \n",
    "    # Calculate relative L2 norm error / Relativen L2-Norm-Fehler berechnen\n",
    "    rel = np.linalg.norm(x - x_ref, 2) / np.linalg.norm(x_ref, 2)\n",
    "    \n",
    "    return rmse, rel"
   ]
  },
  {
   "cell_type": "markdown",
   "id": "977d5ef4",
   "metadata": {},
   "source": [
    "## Main Analysis Function / Hauptanalysefunktion\n",
    "\n",
    "This is the core function that orchestrates the entire comparison study between PINN, FEM, and analytical solutions.\n",
    "\n",
    "Dies ist die Kernfunktion, die die gesamte Vergleichsstudie zwischen PINN, FEM und analytischen Lösungen koordiniert."
   ]
  },
  {
   "cell_type": "code",
   "execution_count": null,
   "id": "bc12ec2a",
   "metadata": {},
   "outputs": [],
   "source": [
    "def main() -> None:\n",
    "    \"\"\"\n",
    "    Main execution function that compares PINN (ADAM + L-BFGS), FEM, and exact solution\n",
    "    for a cantilever beam under uniform load. Includes training, evaluation, error analysis,\n",
    "    and visualization.\n",
    "    \n",
    "    Hauptausführungsfunktion, die PINN (ADAM + L-BFGS), FEM und exakte Lösung\n",
    "    für einen Kragträger unter gleichmäßiger Last vergleicht. Beinhaltet Training, \n",
    "    Auswertung, Fehleranalyse und Visualisierung.\n",
    "    \"\"\"\n",
    "    # Set random seed for reproducibility / Zufallszahlen-Seed für Reproduzierbarkeit setzen\n",
    "    set_seed(35)"
   ]
  },
  {
   "cell_type": "markdown",
   "id": "b19600ae",
   "metadata": {},
   "source": [
    "### Physical Parameters / Physikalische Parameter\n",
    "\n",
    "Definition of the cantilever beam's physical properties and loading conditions.\n",
    "\n",
    "Definition der physikalischen Eigenschaften und Belastungsbedingungen des Kragträgers."
   ]
  },
  {
   "cell_type": "code",
   "execution_count": null,
   "id": "02c45580",
   "metadata": {},
   "outputs": [],
   "source": [
    "    # Beam parameters / Trägerparameter\n",
    "    L: float = 5.0             # Length of the beam [m] / Länge des Trägers [m]\n",
    "    E: float = 210e9           # Elastic modulus [Pa] / Elastizitätsmodul [Pa]\n",
    "    I: float = 1e-6            # Area moment of inertia [m^4] / Flächenträgheitsmoment [m^4]\n",
    "    q: float = 1000.0          # Uniform load [N/m] / Gleichmäßige Last [N/m]\n",
    "\n",
    "    # Sampling parameters / Sampling-Parameter\n",
    "    n_samples: int = 100       # Number of evaluation/collocation points / Anzahl der Auswertungs-/Kollokationspunkte\n",
    "\n",
    "    # Scaling factors for dimensionless form / Skalierungsfaktoren für dimensionslose Form\n",
    "    w_char: float = q * L**4 / (E * I)        # Characteristic deflection / Charakteristische Durchbiegung\n",
    "    scaling_theta: float = w_char / L          # Scaling for slope / Skalierung für Neigung"
   ]
  },
  {
   "cell_type": "code",
   "execution_count": null,
   "id": "2131fa54",
   "metadata": {},
   "outputs": [],
   "source": [
    "### PINN Training / PINN Training\n",
    "\n",
    "Execute PINN training using both ADAM and L-BFGS optimizers.\n",
    "\n",
    "PINN-Training mit sowohl ADAM als auch L-BFGS Optimierern ausführen."
   ]
  },
  {
   "cell_type": "code",
   "execution_count": null,
   "id": "10c02bf9",
   "metadata": {},
   "outputs": [],
   "source": [
    "    # PINN training / PINN Training\n",
    "    start = time.time()\n",
    "    # Train neural network with ADAM followed by L-BFGS optimization\n",
    "    # Trainiere neuronales Netz mit ADAM gefolgt von L-BFGS Optimierung\n",
    "    adam_results, time_adam, lbfgs_results, time_lbfgs = calculate_pinn(\n",
    "        adam_epochs=200,           # Number of ADAM training epochs / Anzahl ADAM Trainingsepochen\n",
    "        lbfgs_epochs=300,          # Number of L-BFGS training epochs / Anzahl L-BFGS Trainingsepochen\n",
    "        n_points=n_samples,        # Number of collocation points / Anzahl Kollokationspunkte\n",
    "        loss_threshold=1e-8        # Convergence threshold / Konvergenzschwelle\n",
    "    )\n",
    "    time_pinn = time.time() - start"
   ]
  },
  {
   "cell_type": "markdown",
   "id": "5e6961d9",
   "metadata": {},
   "source": [
    "### FEM Computation / FEM Berechnung\n",
    "\n",
    "Compute the finite element solution for comparison.\n",
    "\n",
    "Finite-Elemente-Lösung zur Vergleichsberechnung."
   ]
  },
  {
   "cell_type": "code",
   "execution_count": null,
   "id": "c10b04c6",
   "metadata": {},
   "outputs": [],
   "source": [
    "    # FEM computation / FEM Berechnung\n",
    "    start = time.time()\n",
    "    # Calculate deflection and slope using finite element method\n",
    "    # Berechne Durchbiegung und Neigung mit der Finite-Elemente-Methode\n",
    "    v_fem, v_fem_theta = calculate_fem(n_samples)\n",
    "    time_fem = time.time() - start"
   ]
  },
  {
   "cell_type": "markdown",
   "id": "0dcbf3dc",
   "metadata": {},
   "source": [
    "### Performance Logging / Leistungsprotokollierung\n",
    "\n",
    "Log the computational times for each method.\n",
    "\n",
    "Protokollierung der Berechnungszeiten für jede Methode."
   ]
  },
  {
   "cell_type": "code",
   "execution_count": null,
   "id": "b08af1dc",
   "metadata": {},
   "outputs": [],
   "source": [
    "    # Log runtimes / Laufzeiten protokollieren\n",
    "    print(f\"\\nExecution Times:\")\n",
    "    print(f\"PINN Total:     {time_pinn:.4f} s\")\n",
    "    print(f\"  ADAM:         {time_adam:.4f} s\")\n",
    "    print(f\"  LBFGS:        {time_lbfgs:.4f} s\")\n",
    "    print(f\"FEM:            {time_fem:.4f} s\\n\")"
   ]
  },
  {
   "cell_type": "markdown",
   "id": "5e1545c9",
   "metadata": {},
   "source": [
    "### Results Extraction / Ergebnisextraktion\n",
    "\n",
    "Extract and process results from different methods.\n",
    "\n",
    "Ergebnisse von verschiedenen Methoden extrahieren und verarbeiten."
   ]
  },
  {
   "cell_type": "code",
   "execution_count": null,
   "id": "08cdd599",
   "metadata": {},
   "outputs": [],
   "source": [
    "    # Extract results / Ergebnisse extrahieren\n",
    "    z_eval, v_adam, loss_history = adam_results         # ADAM results / ADAM Ergebnisse\n",
    "    _, v_lbfgs, _ = lbfgs_results                       # L-BFGS results / L-BFGS Ergebnisse\n",
    "    \n",
    "    # Calculate exact solution at evaluation points / Exakte Lösung an Auswertungspunkten berechnen\n",
    "    v_exact: np.ndarray = exact_solution(z_eval).detach().numpy().flatten()"
   ]
  },
  {
   "cell_type": "markdown",
   "id": "8e422a0d",
   "metadata": {},
   "source": [
    "### Dimensional Scaling / Dimensionale Skalierung\n",
    "\n",
    "Convert dimensionless results back to physical units for comparison and visualization.\n",
    "\n",
    "Dimensionslose Ergebnisse zurück in physikalische Einheiten für Vergleich und Visualisierung umwandeln."
   ]
  },
  {
   "cell_type": "code",
   "execution_count": null,
   "id": "0cee2f40",
   "metadata": {},
   "outputs": [],
   "source": [
    "    # Scale dimensionless displacements to real-world units\n",
    "    # Skaliere dimensionslose Verschiebungen zu realen Einheiten\n",
    "    w_exact = v_exact * w_char                          # Exact solution in [m] / Exakte Lösung in [m]\n",
    "    w_adam = v_adam * w_char                            # ADAM solution in [m] / ADAM Lösung in [m]\n",
    "    w_lbfgs = v_lbfgs * w_char                          # L-BFGS solution in [m] / L-BFGS Lösung in [m]\n",
    "    w_fem = v_fem * w_char                              # FEM solution in [m] / FEM Lösung in [m]\n",
    "    w_fem_theta = v_fem_theta * scaling_theta           # FEM slope scaled / FEM Neigung skaliert\n",
    "    x_eval = z_eval.numpy().flatten() * L               # Physical coordinates [m] / Physikalische Koordinaten [m]"
   ]
  },
  {
   "cell_type": "markdown",
   "id": "cf28977a",
   "metadata": {},
   "source": [
    "### Error Analysis / Fehleranalyse\n",
    "\n",
    "Comprehensive error analysis comparing all methods against each other.\n",
    "\n",
    "Umfassende Fehleranalyse, die alle Methoden miteinander vergleicht."
   ]
  },
  {
   "cell_type": "code",
   "execution_count": null,
   "id": "4d2b2ef9",
   "metadata": {},
   "outputs": [],
   "source": [
    "    # Compute errors / Fehler berechnen\n",
    "    # Errors against exact solution / Fehler gegenüber exakter Lösung\n",
    "    rmse_adam_exact, rel_adam_exact = calc_errors(w_adam, w_exact)\n",
    "    rmse_lbfgs_exact, rel_lbfgs_exact = calc_errors(w_lbfgs, w_exact)\n",
    "    rmse_fem_exact, rel_fem_exact = calc_errors(w_fem, w_exact)\n",
    "    \n",
    "    # Cross-method comparisons / Methodenübergreifende Vergleiche\n",
    "    rmse_adam_fem, rel_adam_fem = calc_errors(w_adam, w_fem)\n",
    "    rmse_lbfgs_fem, rel_lbfgs_fem = calc_errors(w_lbfgs, w_fem)\n",
    "    rmse_adam_lbfgs, rel_adam_lbfgs = calc_errors(w_adam, w_lbfgs)\n",
    "\n",
    "    # Print error summary / Fehlerzusammenfassung ausgeben\n",
    "    print(\"RMSE Errors:\")\n",
    "    print(f\"ADAM vs Exact:\\t{rmse_adam_exact:.6e}\")\n",
    "    print(f\"LBFGS vs Exact:\\t{rmse_lbfgs_exact:.6e}\")\n",
    "    print(f\"FEM vs Exact:\\t{rmse_fem_exact:.6e}\")\n",
    "    print(f\"ADAM vs FEM:\\t{rmse_adam_fem:.6e}\")\n",
    "    print(f\"LBFGS vs FEM:\\t{rmse_lbfgs_fem:.6e}\")\n",
    "    print(f\"ADAM vs LBFGS:\\t{rmse_adam_lbfgs:.6e}\\n\")\n",
    "\n",
    "    print(\"Relative L2 Errors:\")\n",
    "    print(f\"ADAM vs Exact:\\t{rel_adam_exact:.6e}\")\n",
    "    print(f\"LBFGS vs Exact:\\t{rel_lbfgs_exact:.6e}\")\n",
    "    print(f\"FEM vs Exact:\\t{rel_fem_exact:.6e}\")\n",
    "    print(f\"ADAM vs FEM:\\t{rel_adam_fem:.6e}\")\n",
    "    print(f\"LBFGS vs FEM:\\t{rel_lbfgs_fem:.6e}\")\n",
    "    print(f\"ADAM vs LBFGS:\\t{rel_adam_lbfgs:.6e}\\n\")"
   ]
  },
  {
   "cell_type": "markdown",
   "id": "584a7ec6",
   "metadata": {},
   "source": [
    "## Visualization / Visualisierung\n",
    "\n",
    "### PINN vs Analytical Solution / PINN vs Analytische Lösung\n",
    "\n",
    "Comparison of PINN methods (ADAM and L-BFGS) against the exact analytical solution.\n",
    "\n",
    "Vergleich der PINN-Methoden (ADAM und L-BFGS) mit der exakten analytischen Lösung.\n"
   ]
  },
  {
   "cell_type": "code",
   "execution_count": null,
   "id": "2b314332",
   "metadata": {},
   "outputs": [],
   "source": [
    "    # --- Visualization / Visualisierung ---\n",
    "\n",
    "    # Plot PINN vs Exact / PINN vs Exakt plotten\n",
    "    plt.figure(figsize=(8, 5))\n",
    "    # L-BFGS results (typically more accurate) / L-BFGS Ergebnisse (typischerweise genauer)\n",
    "    plt.plot(x_eval, w_lbfgs, color='orange', label='LBFGS', linewidth=2, linestyle='-')\n",
    "    # ADAM results / ADAM Ergebnisse\n",
    "    plt.plot(x_eval, w_adam, color='red', label='ADAM', linewidth=2, linestyle='--')\n",
    "    # Analytical reference solution / Analytische Referenzlösung\n",
    "    plt.plot(x_eval, w_exact, color='navy', label='Analytical', linewidth=2, linestyle=':')\n",
    "    plt.xlabel('x [m]')\n",
    "    plt.ylabel('w(x) [m]')\n",
    "    plt.title('Beam Deflection - PINN vs Exact')\n",
    "    plt.legend()\n",
    "    plt.grid(True)\n",
    "    plt.tight_layout()"
   ]
  },
  {
   "cell_type": "markdown",
   "id": "1c24369f",
   "metadata": {},
   "source": [
    "### PINN vs FEM Comparison / PINN vs FEM Vergleich\n",
    "\n",
    "Comparison of PINN methods against the Finite Element Method solution.\n",
    "\n",
    "Vergleich der PINN-Methoden mit der Finite-Elemente-Methoden-Lösung."
   ]
  },
  {
   "cell_type": "code",
   "execution_count": null,
   "id": "61d3e099",
   "metadata": {},
   "outputs": [],
   "source": [
    "    # Plot PINN vs FEM / PINN vs FEM plotten\n",
    "    plt.figure(figsize=(8, 5))\n",
    "    # L-BFGS results / L-BFGS Ergebnisse\n",
    "    plt.plot(x_eval, w_lbfgs, color='orange', label='LBFGS', linewidth=2, linestyle='-')\n",
    "    # ADAM results / ADAM Ergebnisse\n",
    "    plt.plot(x_eval, w_adam, color='red', label='ADAM', linewidth=2, linestyle='--')\n",
    "    # FEM reference solution / FEM Referenzlösung\n",
    "    plt.plot(x_eval, w_fem, color='navy', label='FEM', linewidth=2, linestyle=':')\n",
    "    plt.xlabel('x [m]')\n",
    "    plt.ylabel('w(x) [m]')\n",
    "    plt.title('Beam Deflection - PINN vs FEM')\n",
    "    plt.legend()\n",
    "    plt.grid(True)\n",
    "    plt.tight_layout()"
   ]
  },
  {
   "cell_type": "markdown",
   "id": "42b982df",
   "metadata": {},
   "source": [
    "### Training Loss History / Trainingsverlusthistorie\n",
    "\n",
    "Visualization of the PINN training convergence during the ADAM optimization phase.\n",
    "\n",
    "Visualisierung der PINN-Trainingskonvergenz während der ADAM-Optimierungsphase."
   ]
  },
  {
   "cell_type": "code",
   "execution_count": null,
   "id": "9da62966",
   "metadata": {},
   "outputs": [],
   "source": [
    "    # Loss plot / Verlustplot\n",
    "    if loss_history is not None:\n",
    "        plt.figure()\n",
    "        # Plot training loss on logarithmic scale / Trainingsverlust auf logarithmischer Skala plotten\n",
    "        plt.plot(loss_history)\n",
    "        plt.yscale(\"log\")\n",
    "        plt.xlabel(\"Epoch\")\n",
    "        plt.ylabel(\"Loss\")\n",
    "        plt.title(\"Training Loss (ADAM)\")\n",
    "        plt.grid(True)\n",
    "\n",
    "    # Display all plots / Alle Plots anzeigen\n",
    "    plt.show()"
   ]
  },
  {
   "cell_type": "markdown",
   "id": "15679e2d",
   "metadata": {},
   "source": [
    "## Execution / Ausführung"
   ]
  },
  {
   "cell_type": "code",
   "execution_count": null,
   "id": "b0268a52",
   "metadata": {},
   "outputs": [],
   "source": [
    "if __name__ == \"__main__\":\n",
    "    main()"
   ]
  },
  {
   "cell_type": "markdown",
   "id": "24484006",
   "metadata": {},
   "source": [
    "## Summary / Zusammenfassung\n",
    "\n",
    "This notebook demonstrates a comprehensive comparison of three approaches to solving the cantilever beam deflection problem:\n",
    "\n",
    "1. **Physics-Informed Neural Networks (PINN)** with both ADAM and L-BFGS optimizers\n",
    "2. **Finite Element Method (FEM)**\n",
    "3. **Analytical (exact) solution**\n",
    "\n",
    "The analysis includes performance timing, error metrics (RMSE and relative L2 error), and visualization of results.\n",
    "\n",
    "Dieses Notebook demonstriert einen umfassenden Vergleich von drei Ansätzen zur Lösung des Kragträger-Durchbiegungsproblems:\n",
    "\n",
    "1. **Physics-Informed Neural Networks (PINN)** mit sowohl ADAM als auch L-BFGS Optimierern\n",
    "2. **Finite-Elemente-Methode (FEM)**\n",
    "3. **Analytische (exakte) Lösung**\n",
    "\n",
    "Die Analyse umfasst Leistungsmessungen, Fehlermetriken (RMSE und relativer L2-Fehler) und Visualisierung der Ergebnisse."
   ]
  }
 ],
 "metadata": {
  "language_info": {
   "name": "python"
  }
 },
 "nbformat": 4,
 "nbformat_minor": 5
}
